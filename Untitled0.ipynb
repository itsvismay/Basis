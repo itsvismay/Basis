{
 "metadata": {
  "name": "",
  "signature": "sha256:ce3d2a5332f3047aface74fdce2e4ddad72b55229a103b6765fc58993e06e67d"
 },
 "nbformat": 3,
 "nbformat_minor": 0,
 "worksheets": [
  {
   "cells": [
    {
     "cell_type": "code",
     "collapsed": false,
     "input": [
      "import numpy as np\n",
      "\n",
      "def basis_value(x, y):\n",
      "    n1 = np.array([-1, 1, 1])\n",
      "    n2 = np.array([1, 1, 0])\n",
      "    n3 = np.array([1, -1, 0])\n",
      "    normal = np.cross((n1 - n2), (n1 - n3))\n",
      "    print(normal)\n",
      "    z = -1.0*(normal[0]*(x-n1[0]) + normal[1]*(y-n1[1]))/normal[2] + n1[2]\n",
      "    print(x, y, z)\n",
      "    return z\n",
      "    \n",
      "w = [5.0/9, 8.0/9, 5.0/9]\n",
      "x_std = [-1*np.sqrt(3.0/5), 0, np.sqrt(3.0/5)]\n",
      "y_std = [-1*np.sqrt(3.0/5), 0, np.sqrt(3.0/5)]\n",
      "\n",
      "tot = 0.0\n",
      "for i in range(len(w)):\n",
      "    for j in range(len(w)):\n",
      "        x = x_std[i]\n",
      "        y = y_std[j]\n",
      "        tot += w[i]*w[j]*basis_value(x, y)\n",
      "\n",
      "print(tot)"
     ],
     "language": "python",
     "metadata": {},
     "outputs": [
      {
       "output_type": "stream",
       "stream": "stdout",
       "text": [
        "[-2  0 -4]\n",
        "(-0.7745966692414834, -0.7745966692414834, 0.8872983346207417)\n",
        "[-2  0 -4]\n",
        "(-0.7745966692414834, 0, 0.8872983346207417)\n",
        "[-2  0 -4]\n",
        "(-0.7745966692414834, 0.7745966692414834, 0.8872983346207417)\n",
        "[-2  0 -4]\n",
        "(0, -0.7745966692414834, 0.5)\n",
        "[-2  0 -4]\n",
        "(0, 0, 0.5)\n",
        "[-2  0 -4]\n",
        "(0, 0.7745966692414834, 0.5)\n",
        "[-2  0 -4]\n",
        "(0.7745966692414834, -0.7745966692414834, 0.1127016653792583)\n",
        "[-2  0 -4]\n",
        "(0.7745966692414834, 0, 0.1127016653792583)\n",
        "[-2  0 -4]\n",
        "(0.7745966692414834, 0.7745966692414834, 0.1127016653792583)\n",
        "2.0\n"
       ]
      }
     ],
     "prompt_number": 9
    },
    {
     "cell_type": "code",
     "collapsed": false,
     "input": [],
     "language": "python",
     "metadata": {},
     "outputs": []
    }
   ],
   "metadata": {}
  }
 ]
}